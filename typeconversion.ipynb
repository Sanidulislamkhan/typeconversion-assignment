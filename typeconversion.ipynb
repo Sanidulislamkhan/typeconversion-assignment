{
 "cells": [
  {
   "cell_type": "code",
   "execution_count": 12,
   "id": "bd883933-d327-4b74-aea0-0754f2f078fc",
   "metadata": {},
   "outputs": [
    {
     "data": {
      "text/plain": [
       "float"
      ]
     },
     "execution_count": 12,
     "metadata": {},
     "output_type": "execute_result"
    }
   ],
   "source": [
    "# 1. Convert an integer into a floating point\n",
    "a=20\n",
    "a=float(a)\n",
    "a\n",
    "type(a)"
   ]
  },
  {
   "cell_type": "code",
   "execution_count": 13,
   "id": "5f7a7959-e170-42d2-aa3a-51ea063f4acd",
   "metadata": {},
   "outputs": [
    {
     "data": {
      "text/plain": [
       "int"
      ]
     },
     "execution_count": 13,
     "metadata": {},
     "output_type": "execute_result"
    }
   ],
   "source": [
    "# 2. Convert an float into a integer point\n",
    "b=5.5\n",
    "b=int(b)\n",
    "b\n",
    "type(b)"
   ]
  },
  {
   "cell_type": "code",
   "execution_count": 14,
   "id": "f68b6a45-84c7-45c8-b2fa-1292537f11ff",
   "metadata": {},
   "outputs": [
    {
     "data": {
      "text/plain": [
       "str"
      ]
     },
     "execution_count": 14,
     "metadata": {},
     "output_type": "execute_result"
    }
   ],
   "source": [
    "# 3. Convert an integer into a string\n",
    "c=10\n",
    "c=str(c)\n",
    "c\n",
    "type(c)"
   ]
  },
  {
   "cell_type": "code",
   "execution_count": 15,
   "id": "3be1c635-4d7b-4161-b4a8-2061e9a8ddf7",
   "metadata": {},
   "outputs": [
    {
     "data": {
      "text/plain": [
       "tuple"
      ]
     },
     "execution_count": 15,
     "metadata": {},
     "output_type": "execute_result"
    }
   ],
   "source": [
    "# 4. Convert a list to tuple\n",
    "marks=[70,56,88,90]\n",
    "marks=tuple(marks)\n",
    "marks\n",
    "type(marks)"
   ]
  },
  {
   "cell_type": "code",
   "execution_count": 19,
   "id": "a94805ad-154f-4c7d-818c-a1e02b5aa3ee",
   "metadata": {},
   "outputs": [
    {
     "data": {
      "text/plain": [
       "['eng', 'chem', 'phy']"
      ]
     },
     "execution_count": 19,
     "metadata": {},
     "output_type": "execute_result"
    }
   ],
   "source": [
    "#. 5 Convert a tuple to alist\n",
    "sub=(\"eng\",\"chem\",\"phy\")\n",
    "sub=list(sub)\n",
    "sub"
   ]
  },
  {
   "cell_type": "code",
   "execution_count": 22,
   "id": "459ee441-9198-4786-85ee-2827a22bb6be",
   "metadata": {},
   "outputs": [
    {
     "data": {
      "text/plain": [
       "'0b1010'"
      ]
     },
     "execution_count": 22,
     "metadata": {},
     "output_type": "execute_result"
    }
   ],
   "source": [
    "#. 6 Covert  a decimal number to binary\n",
    "num=10\n",
    "num=bin(10)\n",
    "num"
   ]
  },
  {
   "cell_type": "code",
   "execution_count": 23,
   "id": "ff4b2966-0513-476a-8574-3ac30aa651f4",
   "metadata": {},
   "outputs": [
    {
     "data": {
      "text/plain": [
       "True"
      ]
     },
     "execution_count": 23,
     "metadata": {},
     "output_type": "execute_result"
    }
   ],
   "source": [
    "#. 7. Convert a non zero number to boolean\n",
    "x=5\n",
    "x=bool(x)\n",
    "x"
   ]
  },
  {
   "cell_type": "code",
   "execution_count": null,
   "id": "c98e0a05-b505-4bf4-8bb9-8fbc275e50e2",
   "metadata": {},
   "outputs": [],
   "source": []
  }
 ],
 "metadata": {
  "kernelspec": {
   "display_name": "Python 3 (ipykernel)",
   "language": "python",
   "name": "python3"
  },
  "language_info": {
   "codemirror_mode": {
    "name": "ipython",
    "version": 3
   },
   "file_extension": ".py",
   "mimetype": "text/x-python",
   "name": "python",
   "nbconvert_exporter": "python",
   "pygments_lexer": "ipython3",
   "version": "3.10.8"
  }
 },
 "nbformat": 4,
 "nbformat_minor": 5
}
